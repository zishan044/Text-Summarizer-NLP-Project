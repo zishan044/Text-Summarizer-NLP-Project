{
 "cells": [
  {
   "cell_type": "code",
   "execution_count": 1,
   "id": "5e51a8a6",
   "metadata": {},
   "outputs": [],
   "source": [
    "import os"
   ]
  },
  {
   "cell_type": "code",
   "execution_count": 2,
   "id": "a212e83c",
   "metadata": {},
   "outputs": [
    {
     "data": {
      "text/plain": [
       "'/home/zishan/Documents/projects/Text-Summurizer-NLP-Project/research'"
      ]
     },
     "execution_count": 2,
     "metadata": {},
     "output_type": "execute_result"
    }
   ],
   "source": [
    "%pwd"
   ]
  },
  {
   "cell_type": "code",
   "execution_count": 3,
   "id": "0013e05f",
   "metadata": {},
   "outputs": [],
   "source": [
    "os.chdir('../')"
   ]
  },
  {
   "cell_type": "code",
   "execution_count": 4,
   "id": "23710ed9",
   "metadata": {},
   "outputs": [
    {
     "data": {
      "text/plain": [
       "'/home/zishan/Documents/projects/Text-Summurizer-NLP-Project'"
      ]
     },
     "execution_count": 4,
     "metadata": {},
     "output_type": "execute_result"
    }
   ],
   "source": [
    "%pwd"
   ]
  },
  {
   "cell_type": "code",
   "execution_count": 5,
   "id": "0b88e4ea",
   "metadata": {},
   "outputs": [],
   "source": [
    "from dataclasses import dataclass\n",
    "from pathlib import Path\n",
    "\n",
    "@dataclass(frozen=True)\n",
    "class DataValidationConfig:\n",
    "    root_dir: Path\n",
    "    STATUS_FILE: Path\n",
    "    ALL_REQUIRED_FILES: list"
   ]
  },
  {
   "cell_type": "code",
   "execution_count": 6,
   "id": "7689047e",
   "metadata": {},
   "outputs": [],
   "source": [
    "from text_summarizer.constants import *\n",
    "from text_summarizer.utils.common import read_yaml, create_directories"
   ]
  },
  {
   "cell_type": "code",
   "execution_count": 7,
   "id": "97b39ea1",
   "metadata": {},
   "outputs": [],
   "source": [
    "class ConfigurationManager:\n",
    "    def __init__(self, config_filepath=CONFIG_FILE_PATH, params_filepath=PARAMS_FILE_PATH):\n",
    "        self.config = read_yaml(config_filepath)\n",
    "        self.params = read_yaml(params_filepath)\n",
    "\n",
    "        create_directories([self.config.artifacts_root])\n",
    "    \n",
    "    def get_data_validation_config(self) -> DataValidationConfig:\n",
    "        config = self.config.data_validation\n",
    "\n",
    "        create_directories([config.root_dir])\n",
    "\n",
    "        data_validation_config = DataValidationConfig(\n",
    "            root_dir=config.root_dir,\n",
    "            STATUS_FILE=config.STATUS_FILE,\n",
    "            ALL_REQUIRED_FILES=config.ALL_REQUIRED_FILES,\n",
    "        )\n",
    "\n",
    "        return data_validation_config"
   ]
  },
  {
   "cell_type": "code",
   "execution_count": 8,
   "id": "abe7bb95",
   "metadata": {},
   "outputs": [],
   "source": [
    "import os\n",
    "from text_summarizer.logging import logger"
   ]
  },
  {
   "cell_type": "code",
   "execution_count": null,
   "id": "a31fa50d",
   "metadata": {},
   "outputs": [],
   "source": [
    "class DataValidation:\n",
    "    def __init__(self, config: DataValidationConfig):\n",
    "        self.config = config\n",
    "\n",
    "    def validate_all_files_exist(self) -> bool:\n",
    "        try:\n",
    "            validation_status = None\n",
    "            all_files = os.listdir(os.path.join('artifacts', 'data_ingestion', 'samsum_dataset'))\n",
    "\n",
    "            for file in self.config.ALL_REQUIRED_FILES:\n",
    "                if file not in all_files:\n",
    "                    validation_status = False\n",
    "                    with open(self.config.STATUS_FILE, 'w') as f:\n",
    "                        f.write(f'validation status: {validation_status}')\n",
    "                else:\n",
    "                    validation_status = True\n",
    "                    with open(self.config.STATUS_FILE, 'w') as f:\n",
    "                        f.write(f'validation status: {validation_status}')\n",
    "            return validation_status\n",
    "        except Exception as e:\n",
    "            raise e\n"
   ]
  },
  {
   "cell_type": "code",
   "execution_count": 10,
   "id": "79cf275a",
   "metadata": {},
   "outputs": [
    {
     "name": "stdout",
     "output_type": "stream",
     "text": [
      "[2025-09-02 20:36:40,639]: [INFO]: [textSummarizerLogger]: [✅ YAML file loaded successfully: config/config.yaml]\n",
      "[2025-09-02 20:36:40,639]: [INFO]: [textSummarizerLogger]: [✅ YAML file loaded successfully: params.yaml]\n",
      "[2025-09-02 20:36:40,640]: [INFO]: [textSummarizerLogger]: [📁 Created directory at /home/zishan/Documents/projects/Text-Summurizer-NLP-Project/artifacts]\n",
      "[2025-09-02 20:36:40,640]: [INFO]: [textSummarizerLogger]: [📁 Created directory at /home/zishan/Documents/projects/Text-Summurizer-NLP-Project/artifacts/data_validation]\n",
      "test\n",
      "validation\n",
      "train\n",
      "dataset_dict.json\n"
     ]
    }
   ],
   "source": [
    "try:\n",
    "    config = ConfigurationManager()\n",
    "    data_validation_config = config.get_data_validation_config()\n",
    "    data_validation = DataValidation(config=data_validation_config)\n",
    "    data_validation.validate_all_files_exist()\n",
    "except Exception as e:\n",
    "    raise e"
   ]
  }
 ],
 "metadata": {
  "kernelspec": {
   "display_name": "venv",
   "language": "python",
   "name": "python3"
  },
  "language_info": {
   "codemirror_mode": {
    "name": "ipython",
    "version": 3
   },
   "file_extension": ".py",
   "mimetype": "text/x-python",
   "name": "python",
   "nbconvert_exporter": "python",
   "pygments_lexer": "ipython3",
   "version": "3.12.3"
  }
 },
 "nbformat": 4,
 "nbformat_minor": 5
}
